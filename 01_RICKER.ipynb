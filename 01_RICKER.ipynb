import numpy as np
import matplotlib.pyplot as plt
import matplotlib as mpl
import ipywidgets as widgets 
from ipywidgets import interact, interactive, fixed, interact_manual
import warnings # to suppress incompat. warnings
warnings.filterwarnings('ignore')
%config inlineBackend.figure_format='svg' #for hires figs
%matplotlib inline
